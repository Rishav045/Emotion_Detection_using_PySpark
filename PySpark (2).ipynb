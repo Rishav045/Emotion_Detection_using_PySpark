{
  "nbformat": 4,
  "nbformat_minor": 0,
  "metadata": {
    "colab": {
      "provenance": []
    },
    "kernelspec": {
      "name": "python3",
      "display_name": "Python 3"
    },
    "language_info": {
      "name": "python"
    }
  },
  "cells": [
    {
      "cell_type": "code",
      "execution_count": null,
      "metadata": {
        "colab": {
          "base_uri": "https://localhost:8080/"
        },
        "id": "Mhu54k1TWkiZ",
        "outputId": "610cd997-7ef2-48b9-8365-889e585baf2f"
      },
      "outputs": [
        {
          "output_type": "stream",
          "name": "stdout",
          "text": [
            "Looking in indexes: https://pypi.org/simple, https://us-python.pkg.dev/colab-wheels/public/simple/\n",
            "Collecting pyspark\n",
            "  Downloading pyspark-3.3.1.tar.gz (281.4 MB)\n",
            "\u001b[K     |████████████████████████████████| 281.4 MB 45 kB/s \n",
            "\u001b[?25hCollecting py4j==0.10.9.5\n",
            "  Downloading py4j-0.10.9.5-py2.py3-none-any.whl (199 kB)\n",
            "\u001b[K     |████████████████████████████████| 199 kB 51.5 MB/s \n",
            "\u001b[?25hBuilding wheels for collected packages: pyspark\n",
            "  Building wheel for pyspark (setup.py) ... \u001b[?25l\u001b[?25hdone\n",
            "  Created wheel for pyspark: filename=pyspark-3.3.1-py2.py3-none-any.whl size=281845512 sha256=91e3bbe83210181f55369390f1c25053c46cd206240b650f92fb1e9add4eda64\n",
            "  Stored in directory: /root/.cache/pip/wheels/43/dc/11/ec201cd671da62fa9c5cc77078235e40722170ceba231d7598\n",
            "Successfully built pyspark\n",
            "Installing collected packages: py4j, pyspark\n",
            "Successfully installed py4j-0.10.9.5 pyspark-3.3.1\n"
          ]
        }
      ],
      "source": [
        "pip install pyspark"
      ]
    },
    {
      "cell_type": "code",
      "source": [
        "from pyspark.sql import SparkSession \n",
        "spark = SparkSession.builder.appName('abc').getOrCreate()"
      ],
      "metadata": {
        "id": "GttQbVHoWps_"
      },
      "execution_count": null,
      "outputs": []
    },
    {
      "cell_type": "code",
      "source": [
        "from pyspark.ml.classification import LogisticRegression"
      ],
      "metadata": {
        "id": "kQyGyNfUXimD"
      },
      "execution_count": null,
      "outputs": []
    },
    {
      "cell_type": "code",
      "source": [
        "input_data=spark.read.csv('/content/drive/MyDrive/ISEAR_pre_processes.csv',header=True,inferSchema=True)\n",
        " "
      ],
      "metadata": {
        "id": "jIxmfeW0gXbZ"
      },
      "execution_count": null,
      "outputs": []
    },
    {
      "cell_type": "code",
      "source": [
        "from google.colab import drive\n",
        "drive.mount('/content/drive')"
      ],
      "metadata": {
        "colab": {
          "base_uri": "https://localhost:8080/"
        },
        "id": "t9BcxZBa6rJI",
        "outputId": "516795ee-89b9-4c90-cdb0-caf707319455"
      },
      "execution_count": null,
      "outputs": [
        {
          "output_type": "stream",
          "name": "stdout",
          "text": [
            "Mounted at /content/drive\n"
          ]
        }
      ]
    },
    {
      "cell_type": "code",
      "source": [
        "input_data.printSchema()"
      ],
      "metadata": {
        "colab": {
          "base_uri": "https://localhost:8080/"
        },
        "id": "Xe8Z8misgiFX",
        "outputId": "ced8f5f0-6db5-4930-c86b-2263d7d446d9"
      },
      "execution_count": null,
      "outputs": [
        {
          "output_type": "stream",
          "name": "stdout",
          "text": [
            "root\n",
            " |-- Emotion: string (nullable = true)\n",
            " |-- Clean_Text: string (nullable = true)\n",
            "\n"
          ]
        }
      ]
    },
    {
      "cell_type": "code",
      "source": [
        "input_data.count()"
      ],
      "metadata": {
        "colab": {
          "base_uri": "https://localhost:8080/"
        },
        "id": "KuQ8olt2gs2V",
        "outputId": "4eaa2dbc-f997-4447-bf07-0e045fe67b52"
      },
      "execution_count": null,
      "outputs": [
        {
          "output_type": "execute_result",
          "data": {
            "text/plain": [
              "7447"
            ]
          },
          "metadata": {},
          "execution_count": 9
        }
      ]
    },
    {
      "cell_type": "code",
      "source": [
        "from pyspark.ml.linalg import Vectors\n",
        "from pyspark.ml.feature import VectorAssembler\n",
        "from pyspark.ml.feature import HashingTF, IDF, Tokenizer"
      ],
      "metadata": {
        "id": "lVidqo7ehJ4e"
      },
      "execution_count": null,
      "outputs": []
    },
    {
      "cell_type": "code",
      "source": [
        "tokenizer = Tokenizer(inputCol=\"Clean_Text\", outputCol=\"words\")\n",
        "wordsData = tokenizer.transform(input_data)\n",
        "wordsData.show(truncate=False)"
      ],
      "metadata": {
        "colab": {
          "base_uri": "https://localhost:8080/"
        },
        "id": "MWOAWCVumdGC",
        "outputId": "af8ef4bc-a2b3-4ed8-c037-37c25e30fdc0"
      },
      "execution_count": null,
      "outputs": [
        {
          "output_type": "stream",
          "name": "stdout",
          "text": [
            "+-------+----------------------------------------------------------------------------------------------+-------------------------------------------------------------------------------------------------------------+\n",
            "|Emotion|Clean_Text                                                                                    |words                                                                                                        |\n",
            "+-------+----------------------------------------------------------------------------------------------+-------------------------------------------------------------------------------------------------------------+\n",
            "|joy    |days feel close partner friends feel peace experience close contact people regard greatly     |[days, feel, close, partner, friends, feel, peace, experience, close, contact, people, regard, greatly]      |\n",
            "|fear   |time imagine love contact illness death                                                       |[time, imagine, love, contact, illness, death]                                                               |\n",
            "|anger  |obviously unjustly treated possibility elucidating this                                       |[obviously, unjustly, treated, possibility, elucidating, this]                                               |\n",
            "|sadness|think short time live relate periods life think use short time                                |[think, short, time, live, relate, periods, life, think, use, short, time]                                   |\n",
            "|disgust|gathering found involuntarily sitting people expressed opinions considered low discriminating |[gathering, found, involuntarily, sitting, people, expressed, opinions, considered, low, discriminating]     |\n",
            "|shame  |realized directing feelings discontent partner way trying blame instead sorting feeliings     |[realized, directing, feelings, discontent, partner, way, trying, blame, instead, sorting, feeliings]        |\n",
            "|guilt  |feel guilty realize consider material things important caring relatives feel selfcentered     |[feel, guilty, realize, consider, material, things, important, caring, relatives, feel, selfcentered]        |\n",
            "|joy    |girlfriend taken exam went parents place                                                      |[girlfriend, taken, exam, went, parents, place]                                                              |\n",
            "|fear   |When time realized meaning death                                                              |[when, time, realized, meaning, death]                                                                       |\n",
            "|anger  |car overtaking forced drive road                                                              |[car, overtaking, forced, drive, road]                                                                       |\n",
            "|sadness|recently thought hard work takes study wants try else read theoretical book English understand|[recently, thought, hard, work, takes, study, wants, try, else, read, theoretical, book, english, understand]|\n",
            "|disgust|found bristle liver paste tube                                                                |[found, bristle, liver, paste, tube]                                                                         |\n",
            "|shame  |tired unmotivated shouted girlfriend brought negative sides character actually important      |[tired, unmotivated, shouted, girlfriend, brought, negative, sides, character, actually, important]          |\n",
            "|guilt  |think study enough weekend think able accomplished time                                       |[think, study, enough, weekend, think, able, accomplished, time]                                             |\n",
            "|joy    |pass examination think well                                                                   |[pass, examination, think, well]                                                                             |\n",
            "|fear   |arranged meet person arrives late meantime starts thinking gone wrong eg traffic accident     |[arranged, meet, person, arrives, late, meantime, starts, thinking, gone, wrong, eg, traffic, accident]      |\n",
            "|anger  |unjustly accused done                                                                         |[unjustly, accused, done]                                                                                    |\n",
            "|sadness|ones studies hopelessly difficult uninteresting                                               |[ones, studies, hopelessly, difficult, uninteresting]                                                        |\n",
            "|disgust|finds know like thought instance friends steal things like that unwarranted                   |[finds, know, like, thought, instance, friends, steal, things, like, that, unwarranted]                      |\n",
            "|shame  |unjust stupid else                                                                            |[unjust, stupid, else]                                                                                       |\n",
            "+-------+----------------------------------------------------------------------------------------------+-------------------------------------------------------------------------------------------------------------+\n",
            "only showing top 20 rows\n",
            "\n"
          ]
        }
      ]
    },
    {
      "cell_type": "code",
      "source": [
        "# hashingTF = HashingTF(inputCol=\"words\", outputCol=\"rawFeatures\", numFeatures=50000)\n",
        "hashingTF = HashingTF(inputCol=\"words\", outputCol=\"rawFeatures\")\n",
        "featurizedData = hashingTF.transform(wordsData)\n",
        "\n",
        "idf = IDF(inputCol=\"rawFeatures\", outputCol=\"features\")\n",
        "idfModel = idf.fit(featurizedData)\n",
        "rescaledData = idfModel.transform(featurizedData)\n",
        "\n",
        "rescaledData.show(truncate=False)"
      ],
      "metadata": {
        "colab": {
          "base_uri": "https://localhost:8080/"
        },
        "id": "bVPCUwJfmpy-",
        "outputId": "17c12ba5-c006-48f1-af85-43721e9a9ca4"
      },
      "execution_count": null,
      "outputs": [
        {
          "output_type": "stream",
          "name": "stdout",
          "text": [
            "+-------+----------------------------------------------------------------------------------------------+-------------------------------------------------------------------------------------------------------------+-------------------------------------------------------------------------------------------------------------------------------------------------------------+--------------------------------------------------------------------------------------------------------------------------------------------------------------------------------------------------------------------------------------------------------------------------------------------------------------------------------------------------------------------+\n",
            "|Emotion|Clean_Text                                                                                    |words                                                                                                        |rawFeatures                                                                                                                                                  |features                                                                                                                                                                                                                                                                                                                                                            |\n",
            "+-------+----------------------------------------------------------------------------------------------+-------------------------------------------------------------------------------------------------------------+-------------------------------------------------------------------------------------------------------------------------------------------------------------+--------------------------------------------------------------------------------------------------------------------------------------------------------------------------------------------------------------------------------------------------------------------------------------------------------------------------------------------------------------------+\n",
            "|joy    |days feel close partner friends feel peace experience close contact people regard greatly     |[days, feel, close, partner, friends, feel, peace, experience, close, contact, people, regard, greatly]      |(262144,[24698,43204,55865,55875,56948,61899,124217,130047,163449,185559,213647],[1.0,1.0,1.0,1.0,1.0,2.0,1.0,1.0,2.0,1.0,1.0])                              |(262144,[24698,43204,55865,55875,56948,61899,124217,130047,163449,185559,213647],[4.170768690593653,6.025329061060738,7.529406457837013,5.657604280935421,7.306262906522803,7.214866243111397,5.737646988608957,2.8589168057282786,6.990331639369234,3.1349573031645734,6.96979066990159])                                                                          |\n",
            "|fear   |time imagine love contact illness death                                                       |[time, imagine, love, contact, illness, death]                                                               |(262144,[22373,121517,124217,186480,209266,245159],[1.0,1.0,1.0,1.0,1.0,1.0])                                                                                |(262144,[22373,121517,124217,186480,209266,245159],[7.306262906522803,2.6222815401104214,5.737646988608957,4.087387081654602,4.2522617248448356,5.5145034372947475])                                                                                                                                                                                                |\n",
            "|anger  |obviously unjustly treated possibility elucidating this                                       |[obviously, unjustly, treated, possibility, elucidating, this]                                               |(262144,[17619,40411,108541,204753,218052,247920],[1.0,1.0,1.0,1.0,1.0,1.0])                                                                                 |(262144,[17619,40411,108541,204753,218052,247920],[6.207650617854693,8.222553638396958,5.065553217246844,5.780206603027754,6.6131157259628575,5.131511185038642])                                                                                                                                                                                                   |\n",
            "|sadness|think short time live relate periods life think use short time                                |[think, short, time, live, relate, periods, life, think, use, short, time]                                   |(262144,[14636,33053,81662,98717,121517,153423,172517,199504],[1.0,1.0,2.0,1.0,2.0,2.0,1.0,1.0])                                                             |(262144,[14636,33053,81662,98717,121517,153423,172517,199504],[7.817088530288793,4.945408905404781,10.838386514980845,5.419193257490423,5.244563080220843,9.545132185130742,4.330733340286331,8.222553638396958])                                                                                                                                                   |\n",
            "|disgust|gathering found involuntarily sitting people expressed opinions considered low discriminating |[gathering, found, involuntarily, sitting, people, expressed, opinions, considered, low, discriminating]     |(262144,[8003,28967,44827,83926,85100,87405,144803,185559,224869,235803],[1.0,1.0,1.0,1.0,1.0,1.0,1.0,1.0,1.0,1.0])                                          |(262144,[8003,28967,44827,83926,85100,87405,144803,185559,224869,235803],[7.306262906522803,7.817088530288793,6.350751461495366,6.836259277277067,8.222553638396958,3.3666247340616833,5.824658365598587,3.1349573031645734,4.908367633724432,5.657604280935421])                                                                                                   |\n",
            "|shame  |realized directing feelings discontent partner way trying blame instead sorting feeliings     |[realized, directing, feelings, discontent, partner, way, trying, blame, instead, sorting, feeliings]        |(262144,[6017,33123,43204,51471,52351,83080,109802,182556,188721,239781,239810],[1.0,1.0,1.0,1.0,1.0,1.0,1.0,1.0,1.0,1.0,1.0])                               |(262144,[6017,33123,43204,51471,52351,83080,109802,182556,188721,239781,239810],[7.529406457837013,4.964457100375475,6.025329061060738,3.756645519742374,5.202128752252595,5.971261839790462,4.2809718307272675,4.872649551122353,8.222553638396958,8.222553638396958,8.222553638396958])                                                                           |\n",
            "|guilt  |feel guilty realize consider material things important caring relatives feel selfcentered     |[feel, guilty, realize, consider, material, things, important, caring, relatives, feel, selfcentered]        |(262144,[4254,15391,33400,55997,61899,72568,87519,88205,126783,214676],[1.0,1.0,1.0,1.0,2.0,1.0,1.0,1.0,1.0,1.0])                                            |(262144,[4254,15391,33400,55997,61899,72568,87519,88205,126783,214676],[6.143112096717122,4.741313549061266,7.529406457837013,7.817088530288793,7.214866243111397,3.6739538038972603,8.222553638396958,5.065553217246844,6.96979066990159,3.9117545130114437])                                                                                                      |\n",
            "|joy    |girlfriend taken exam went parents place                                                      |[girlfriend, taken, exam, went, parents, place]                                                              |(262144,[38004,66864,70998,121169,128342,146139],[1.0,1.0,1.0,1.0,1.0,1.0])                                                                                  |(262144,[38004,66864,70998,121169,128342,146139],[4.821356256734802,3.8219506181501406,3.9884471337996983,3.6530106300520173,3.4732831084351092,3.1349573031645734])                                                                                                                                                                                                |\n",
            "|fear   |When time realized meaning death                                                              |[when, time, realized, meaning, death]                                                                       |(262144,[24980,101554,109802,121517,209266],[1.0,1.0,1.0,1.0,1.0])                                                                                           |(262144,[24980,101554,109802,121517,209266],[5.737646988608957,6.96979066990159,4.2809718307272675,2.6222815401104214,4.2522617248448356])                                                                                                                                                                                                                          |\n",
            "|anger  |car overtaking forced drive road                                                              |[car, overtaking, forced, drive, road]                                                                       |(262144,[29744,71578,103821,146821,250858],[1.0,1.0,1.0,1.0,1.0])                                                                                            |(262144,[29744,71578,103821,146821,250858],[7.817088530288793,3.5130234370846236,4.756817735597231,6.082487474900687,5.252139172827256])                                                                                                                                                                                                                            |\n",
            "|sadness|recently thought hard work takes study wants try else read theoretical book English understand|[recently, thought, hard, work, takes, study, wants, try, else, read, theoretical, book, english, understand]|(262144,[2437,34343,36769,53570,67562,72176,92221,92232,130476,142343,189113,213605,225159,231746],[1.0,1.0,1.0,1.0,1.0,1.0,1.0,1.0,1.0,1.0,1.0,1.0,1.0,1.0])|(262144,[2437,34343,36769,53570,67562,72176,92221,92232,130476,142343,189113,213605,225159,231746],[4.964457100375475,3.7116941318801078,6.836259277277067,4.756817735597231,6.207650617854693,4.667205576907544,7.817088530288793,4.908367633724432,7.529406457837013,3.4907508014755004,5.109038329186584,5.583496308781699,5.1780312006735345,5.252139172827256])|\n",
            "|disgust|found bristle liver paste tube                                                                |[found, bristle, liver, paste, tube]                                                                         |(262144,[87405,168367,189360,228952,238924],[1.0,1.0,1.0,1.0,1.0])                                                                                           |(262144,[87405,168367,189360,228952,238924],[3.3666247340616833,7.817088530288793,8.222553638396958,8.222553638396958,6.96979066990159])                                                                                                                                                                                                                            |\n",
            "|shame  |tired unmotivated shouted girlfriend brought negative sides character actually important      |[tired, unmotivated, shouted, girlfriend, brought, negative, sides, character, actually, important]          |(262144,[15391,121169,132975,145903,210793,212044,245919,250059,251061,260611],[1.0,1.0,1.0,1.0,1.0,1.0,1.0,1.0,1.0,1.0])                                    |(262144,[15391,121169,132975,145903,210793,212044,245919,250059,251061,260611],[4.741313549061266,3.6530106300520173,5.696824994088702,8.222553638396958,7.817088530288793,5.619863952952574,6.207650617854693,5.696824994088702,5.360352757467489,6.718476241620683])                                                                                              |\n",
            "|guilt  |think study enough weekend think able accomplished time                                       |[think, study, enough, weekend, think, able, accomplished, time]                                             |(262144,[72176,101464,113004,121517,138837,153423,192484],[1.0,1.0,1.0,1.0,1.0,2.0,1.0])                                                                     |(262144,[72176,101464,113004,121517,138837,153423,192484],[4.667205576907544,4.533674184283021,6.2766434893416445,2.6222815401104214,5.389340294340742,9.545132185130742,7.817088530288793])                                                                                                                                                                        |\n",
            "|joy    |pass examination think well                                                                   |[pass, examination, think, well]                                                                             |(262144,[112473,153423,184280,186925],[1.0,1.0,1.0,1.0])                                                                                                     |(262144,[112473,153423,184280,186925],[4.290728005672632,4.772566092565371,5.109038329186584,4.964457100375475])                                                                                                                                                                                                                                                    |\n",
            "|fear   |arranged meet person arrives late meantime starts thinking gone wrong eg traffic accident     |[arranged, meet, person, arrives, late, meantime, starts, thinking, gone, wrong, eg, traffic, accident]      |(262144,[32983,68727,86726,131839,135238,138281,141836,152049,153524,182496,183374,201440,253839],[1.0,1.0,1.0,1.0,1.0,1.0,1.0,1.0,1.0,1.0,1.0,1.0,1.0])     |(262144,[32983,68727,86726,131839,135238,138281,141836,152049,153524,182496,183374,201440,253839],[5.065553217246844,4.1883130002445625,5.971261839790462,6.025329061060738,6.96979066990159,7.817088530288793,4.27130991981553,3.228725462617083,4.926716772392629,4.696193113780796,7.817088530288793,4.473049562466587,8.222553638396958])                       |\n",
            "|anger  |unjustly accused done                                                                         |[unjustly, accused, done]                                                                                    |(262144,[15623,113299,204753],[1.0,1.0,1.0])                                                                                                                 |(262144,[15623,113299,204753],[4.926716772392629,5.696824994088702,5.780206603027754])                                                                                                                                                                                                                                                                              |\n",
            "|sadness|ones studies hopelessly difficult uninteresting                                               |[ones, studies, hopelessly, difficult, uninteresting]                                                        |(262144,[90370,104233,128087,145568,261291],[1.0,1.0,1.0,1.0,1.0])                                                                                           |(262144,[90370,104233,128087,145568,261291],[8.222553638396958,5.1545007032633405,6.430794169168903,5.226821364842967,8.222553638396958])                                                                                                                                                                                                                           |\n",
            "|disgust|finds know like thought instance friends steal things like that unwarranted                   |[finds, know, like, thought, instance, friends, steal, things, like, that, unwarranted]                      |(262144,[48448,66221,130047,140931,142343,154542,181945,208258,214676,220267],[1.0,1.0,1.0,1.0,1.0,1.0,1.0,2.0,1.0,1.0])                                     |(262144,[48448,66221,130047,140931,142343,154542,181945,208258,214676,220267],[5.252139172827256,7.529406457837013,2.8589168057282786,3.6375861597263857,3.4907508014755004,7.817088530288793,6.96979066990159,7.571604208067659,3.9117545130114437,8.222553638396958])                                                                                             |\n",
            "|shame  |unjust stupid else                                                                            |[unjust, stupid, else]                                                                                       |(262144,[1696,67562,89796],[1.0,1.0,1.0])                                                                                                                    |(262144,[1696,67562,89796],[5.657604280935421,6.207650617854693,6.082487474900687])                                                                                                                                                                                                                                                                                 |\n",
            "+-------+----------------------------------------------------------------------------------------------+-------------------------------------------------------------------------------------------------------------+-------------------------------------------------------------------------------------------------------------------------------------------------------------+--------------------------------------------------------------------------------------------------------------------------------------------------------------------------------------------------------------------------------------------------------------------------------------------------------------------------------------------------------------------+\n",
            "only showing top 20 rows\n",
            "\n"
          ]
        }
      ]
    },
    {
      "cell_type": "code",
      "source": [
        "from pyspark.ml.feature import StringIndexer\n",
        "indexer = StringIndexer(inputCol=\"Emotion\", outputCol=\"categoryIndex\") \n",
        "indexed = indexer.fit(input_data).transform(rescaledData) \n",
        "indexed.show()"
      ],
      "metadata": {
        "colab": {
          "base_uri": "https://localhost:8080/"
        },
        "id": "JfS172cAqJ6E",
        "outputId": "42cad032-894b-4839-b92b-936a8c5f9880"
      },
      "execution_count": null,
      "outputs": [
        {
          "output_type": "stream",
          "name": "stdout",
          "text": [
            "+-------+--------------------+--------------------+--------------------+--------------------+-------------+\n",
            "|Emotion|          Clean_Text|               words|         rawFeatures|            features|categoryIndex|\n",
            "+-------+--------------------+--------------------+--------------------+--------------------+-------------+\n",
            "|    joy|days feel close p...|[days, feel, clos...|(262144,[24698,43...|(262144,[24698,43...|          0.0|\n",
            "|   fear|time imagine love...|[time, imagine, l...|(262144,[22373,12...|(262144,[22373,12...|          2.0|\n",
            "|  anger|obviously unjustl...|[obviously, unjus...|(262144,[17619,40...|(262144,[17619,40...|          1.0|\n",
            "|sadness|think short time ...|[think, short, ti...|(262144,[14636,33...|(262144,[14636,33...|          5.0|\n",
            "|disgust|gathering found i...|[gathering, found...|(262144,[8003,289...|(262144,[8003,289...|          3.0|\n",
            "|  shame|realized directin...|[realized, direct...|(262144,[6017,331...|(262144,[6017,331...|          4.0|\n",
            "|  guilt|feel guilty reali...|[feel, guilty, re...|(262144,[4254,153...|(262144,[4254,153...|          6.0|\n",
            "|    joy|girlfriend taken ...|[girlfriend, take...|(262144,[38004,66...|(262144,[38004,66...|          0.0|\n",
            "|   fear|When time realize...|[when, time, real...|(262144,[24980,10...|(262144,[24980,10...|          2.0|\n",
            "|  anger|car overtaking fo...|[car, overtaking,...|(262144,[29744,71...|(262144,[29744,71...|          1.0|\n",
            "|sadness|recently thought ...|[recently, though...|(262144,[2437,343...|(262144,[2437,343...|          5.0|\n",
            "|disgust|found bristle liv...|[found, bristle, ...|(262144,[87405,16...|(262144,[87405,16...|          3.0|\n",
            "|  shame|tired unmotivated...|[tired, unmotivat...|(262144,[15391,12...|(262144,[15391,12...|          4.0|\n",
            "|  guilt|think study enoug...|[think, study, en...|(262144,[72176,10...|(262144,[72176,10...|          6.0|\n",
            "|    joy|pass examination ...|[pass, examinatio...|(262144,[112473,1...|(262144,[112473,1...|          0.0|\n",
            "|   fear|arranged meet per...|[arranged, meet, ...|(262144,[32983,68...|(262144,[32983,68...|          2.0|\n",
            "|  anger|unjustly accused ...|[unjustly, accuse...|(262144,[15623,11...|(262144,[15623,11...|          1.0|\n",
            "|sadness|ones studies hope...|[ones, studies, h...|(262144,[90370,10...|(262144,[90370,10...|          5.0|\n",
            "|disgust|finds know like t...|[finds, know, lik...|(262144,[48448,66...|(262144,[48448,66...|          3.0|\n",
            "|  shame|  unjust stupid else|[unjust, stupid, ...|(262144,[1696,675...|(262144,[1696,675...|          4.0|\n",
            "+-------+--------------------+--------------------+--------------------+--------------------+-------------+\n",
            "only showing top 20 rows\n",
            "\n"
          ]
        }
      ]
    },
    {
      "cell_type": "code",
      "source": [
        "from pyspark.sql.functions import col\n",
        "df = indexed.select(col(\"features\"),col(\"categoryIndex\"))\n",
        "df.show()"
      ],
      "metadata": {
        "colab": {
          "base_uri": "https://localhost:8080/"
        },
        "id": "5LOPKx25sYMu",
        "outputId": "23e9b1d0-760c-4668-858d-fe5eaf780cfd"
      },
      "execution_count": null,
      "outputs": [
        {
          "output_type": "stream",
          "name": "stdout",
          "text": [
            "+--------------------+-------------+\n",
            "|            features|categoryIndex|\n",
            "+--------------------+-------------+\n",
            "|(262144,[24698,43...|          0.0|\n",
            "|(262144,[22373,12...|          2.0|\n",
            "|(262144,[17619,40...|          1.0|\n",
            "|(262144,[14636,33...|          5.0|\n",
            "|(262144,[8003,289...|          3.0|\n",
            "|(262144,[6017,331...|          4.0|\n",
            "|(262144,[4254,153...|          6.0|\n",
            "|(262144,[38004,66...|          0.0|\n",
            "|(262144,[24980,10...|          2.0|\n",
            "|(262144,[29744,71...|          1.0|\n",
            "|(262144,[2437,343...|          5.0|\n",
            "|(262144,[87405,16...|          3.0|\n",
            "|(262144,[15391,12...|          4.0|\n",
            "|(262144,[72176,10...|          6.0|\n",
            "|(262144,[112473,1...|          0.0|\n",
            "|(262144,[32983,68...|          2.0|\n",
            "|(262144,[15623,11...|          1.0|\n",
            "|(262144,[90370,10...|          5.0|\n",
            "|(262144,[48448,66...|          3.0|\n",
            "|(262144,[1696,675...|          4.0|\n",
            "+--------------------+-------------+\n",
            "only showing top 20 rows\n",
            "\n"
          ]
        }
      ]
    },
    {
      "cell_type": "code",
      "source": [
        "train,test=df.randomSplit([0.8, 0.2])\n",
        "train.show()"
      ],
      "metadata": {
        "colab": {
          "base_uri": "https://localhost:8080/"
        },
        "id": "tYgG5J-zvZb8",
        "outputId": "4b8f8fc1-e8b4-4afb-86ae-34552c3803f0"
      },
      "execution_count": null,
      "outputs": [
        {
          "output_type": "stream",
          "name": "stdout",
          "text": [
            "+--------------------+-------------+\n",
            "|            features|categoryIndex|\n",
            "+--------------------+-------------+\n",
            "|(262144,[86,32550...|          3.0|\n",
            "|(262144,[134,6189...|          3.0|\n",
            "|(262144,[135,6213...|          0.0|\n",
            "|(262144,[150,9420...|          4.0|\n",
            "|(262144,[150,1240...|          1.0|\n",
            "|(262144,[150,1968...|          1.0|\n",
            "|(262144,[150,2057...|          4.0|\n",
            "|(262144,[150,3095...|          4.0|\n",
            "|(262144,[150,6441...|          3.0|\n",
            "|(262144,[161,1482...|          1.0|\n",
            "|(262144,[285,6189...|          3.0|\n",
            "|(262144,[329,1578...|          3.0|\n",
            "|(262144,[329,3775...|          1.0|\n",
            "|(262144,[329,3928...|          1.0|\n",
            "|(262144,[329,6261...|          0.0|\n",
            "|(262144,[329,6453...|          4.0|\n",
            "|(262144,[329,6498...|          1.0|\n",
            "|(262144,[329,8195...|          2.0|\n",
            "|(262144,[329,1599...|          2.0|\n",
            "|(262144,[329,1662...|          3.0|\n",
            "+--------------------+-------------+\n",
            "only showing top 20 rows\n",
            "\n"
          ]
        }
      ]
    },
    {
      "cell_type": "code",
      "source": [
        "model=LogisticRegression(labelCol='categoryIndex')   "
      ],
      "metadata": {
        "id": "E-bxFoO7j54_"
      },
      "execution_count": null,
      "outputs": []
    },
    {
      "cell_type": "code",
      "source": [
        "model=model.fit(train) "
      ],
      "metadata": {
        "id": "DRSif-V6kNqt"
      },
      "execution_count": null,
      "outputs": []
    },
    {
      "cell_type": "code",
      "source": [
        "summary=model.summary"
      ],
      "metadata": {
        "id": "mAqAHYWulMgU"
      },
      "execution_count": null,
      "outputs": []
    },
    {
      "cell_type": "code",
      "source": [
        "summary.predictions.describe().show()"
      ],
      "metadata": {
        "colab": {
          "base_uri": "https://localhost:8080/"
        },
        "id": "pSKYkBGvlWW_",
        "outputId": "e9db2a2b-f3f9-45cf-a99d-27f5118a6acf"
      },
      "execution_count": null,
      "outputs": [
        {
          "output_type": "stream",
          "name": "stdout",
          "text": [
            "+-------+------------------+-----------------+\n",
            "|summary|     categoryIndex|       prediction|\n",
            "+-------+------------------+-----------------+\n",
            "|  count|              5921|             5921|\n",
            "|   mean|2.9888532342509713|2.989697686201655|\n",
            "| stddev| 2.000813361361693|2.000184601229678|\n",
            "|    min|               0.0|              0.0|\n",
            "|    max|               6.0|              6.0|\n",
            "+-------+------------------+-----------------+\n",
            "\n"
          ]
        }
      ]
    },
    {
      "cell_type": "code",
      "source": [
        "from pyspark.ml.evaluation import MulticlassClassificationEvaluator "
      ],
      "metadata": {
        "id": "tp7l8OH2lc1E"
      },
      "execution_count": null,
      "outputs": []
    },
    {
      "cell_type": "code",
      "source": [
        "prediction=model.evaluate(test)"
      ],
      "metadata": {
        "id": "LPu5-ynUmgD5"
      },
      "execution_count": null,
      "outputs": []
    },
    {
      "cell_type": "code",
      "source": [
        "prediction.predictions.show()"
      ],
      "metadata": {
        "colab": {
          "base_uri": "https://localhost:8080/"
        },
        "id": "bwtq-el6mnXv",
        "outputId": "e2273d05-4c79-4d5d-a223-9a0acacd61cc"
      },
      "execution_count": null,
      "outputs": [
        {
          "output_type": "stream",
          "name": "stdout",
          "text": [
            "+--------------------+-------------+--------------------+--------------------+----------+\n",
            "|            features|categoryIndex|       rawPrediction|         probability|prediction|\n",
            "+--------------------+-------------+--------------------+--------------------+----------+\n",
            "|(262144,[119,3506...|          2.0|[222.821352215428...|[3.61037477674856...|       2.0|\n",
            "|(262144,[134,2906...|          3.0|[228.367187955144...|[9.26257292673363...|       1.0|\n",
            "|(262144,[134,4267...|          3.0|[-296.97107619456...|[0.0,1.0899415956...|       6.0|\n",
            "|(262144,[134,8402...|          3.0|[113.224845179144...|[1.85301342015778...|       1.0|\n",
            "|(262144,[135,6240...|          2.0|[327.427567922713...|[1.0,3.2415213023...|       0.0|\n",
            "|(262144,[329,1243...|          6.0|[-136.67606232840...|[6.62843006432149...|       1.0|\n",
            "|(262144,[329,1789...|          6.0|[-603.78642027951...|[0.0,0.0,0.0,0.0,...|       6.0|\n",
            "|(262144,[329,3095...|          6.0|[647.291948586586...|[1.0,1.9025523632...|       0.0|\n",
            "|(262144,[329,3102...|          1.0|[-394.12388503251...|[0.0,1.0,0.0,2.33...|       1.0|\n",
            "|(262144,[329,7029...|          1.0|[-210.31442826913...|[5.02539265253765...|       4.0|\n",
            "|(262144,[389,4920...|          2.0|[-517.83532309696...|[0.0,2.8085416615...|       5.0|\n",
            "|(262144,[440,4254...|          2.0|[-91.476971848273...|[0.0,1.0,2.188798...|       1.0|\n",
            "|(262144,[440,5835...|          6.0|[-471.89038105694...|[0.0,1.0,0.0,0.0,...|       1.0|\n",
            "|(262144,[535,1398...|          2.0|[479.982960461608...|[1.91977160075958...|       6.0|\n",
            "|(262144,[614,7247...|          2.0|[-0.1915056505300...|[0.0,0.0,1.0,0.0,...|       2.0|\n",
            "|(262144,[619,1729...|          3.0|[-362.78026307138...|[0.0,1.0,0.0,2.67...|       1.0|\n",
            "|(262144,[619,5832...|          0.0|[237.438583895180...|[3.77161500279928...|       5.0|\n",
            "|(262144,[619,6414...|          3.0|[-234.92937281304...|[0.0,0.0,0.0,0.0,...|       5.0|\n",
            "|(262144,[619,9465...|          4.0|[32.3489324219932...|[3.61467206339272...|       5.0|\n",
            "|(262144,[619,1332...|          2.0|[237.943552720241...|[9.82739760297048...|       5.0|\n",
            "+--------------------+-------------+--------------------+--------------------+----------+\n",
            "only showing top 20 rows\n",
            "\n"
          ]
        }
      ]
    },
    {
      "cell_type": "code",
      "source": [
        "evaluator=MulticlassClassificationEvaluator(predictionCol='prediction',labelCol='categoryIndex')"
      ],
      "metadata": {
        "id": "qKlap6M_nF0N"
      },
      "execution_count": null,
      "outputs": []
    },
    {
      "cell_type": "code",
      "source": [
        "evaluator.evaluate(prediction.predictions)"
      ],
      "metadata": {
        "colab": {
          "base_uri": "https://localhost:8080/"
        },
        "id": "XCBphyDfqk_I",
        "outputId": "e6eba4e7-821f-4373-de28-64ede9c5aa5f"
      },
      "execution_count": null,
      "outputs": [
        {
          "output_type": "execute_result",
          "data": {
            "text/plain": [
              "0.4057984619687023"
            ]
          },
          "metadata": {},
          "execution_count": 24
        }
      ]
    },
    {
      "cell_type": "code",
      "source": [
        "from pyspark.ml.classification import NaiveBayes \n"
      ],
      "metadata": {
        "id": "3hpGbSmy0dUl"
      },
      "execution_count": null,
      "outputs": []
    },
    {
      "cell_type": "code",
      "source": [
        "rf = NaiveBayes(modelType='multinomial',featuresCol = 'features', labelCol = 'categoryIndex')\n"
      ],
      "metadata": {
        "id": "9I_8VjDb2Pxy"
      },
      "execution_count": null,
      "outputs": []
    },
    {
      "cell_type": "code",
      "source": [
        "rfModel = rf.fit(train)\n"
      ],
      "metadata": {
        "id": "KrV6wIrK2ceS"
      },
      "execution_count": null,
      "outputs": []
    },
    {
      "cell_type": "code",
      "source": [
        "prediction = rfModel.transform(test)\n"
      ],
      "metadata": {
        "id": "K0IwoluF3lns"
      },
      "execution_count": null,
      "outputs": []
    },
    {
      "cell_type": "code",
      "source": [
        "evaluator1=MulticlassClassificationEvaluator(predictionCol='prediction',labelCol='categoryIndex')"
      ],
      "metadata": {
        "id": "kTdJyos33wso"
      },
      "execution_count": null,
      "outputs": []
    },
    {
      "cell_type": "code",
      "source": [
        "nbaccuracy = evaluator.evaluate(prediction) \n",
        "print(\"Test accuracy = \" + str(nbaccuracy))"
      ],
      "metadata": {
        "colab": {
          "base_uri": "https://localhost:8080/"
        },
        "id": "r87nKAbv6Fmu",
        "outputId": "602b15a9-5d4f-4646-ae2d-9682ed269546"
      },
      "execution_count": null,
      "outputs": [
        {
          "output_type": "stream",
          "name": "stdout",
          "text": [
            "Test accuracy = 0.48714168292389465\n"
          ]
        }
      ]
    }
  ]
}